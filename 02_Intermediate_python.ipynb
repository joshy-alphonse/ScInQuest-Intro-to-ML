{
 "cells": [
  {
   "cell_type": "markdown",
   "metadata": {},
   "source": [
    "## 1. List Comprehensions\n",
    "\n",
    "List comprehensions provide a concise way to create lists.\n",
    "\n",
    "### Example:\n",
    "```python\n",
    "# Create a list of squares\n",
    "squares = [x**2 for x in range(10)]\n",
    "print(squares)\n",
    "```\n",
    "\n",
    "### Conditional Comprehensions:\n",
    "```python\n",
    "# Only include even numbers\n",
    "evens = [x for x in range(10) if x % 2 == 0]\n",
    "print(evens)\n",
    "```"
   ]
  },
  {
   "cell_type": "code",
   "execution_count": null,
   "metadata": {},
   "outputs": [],
   "source": [
    "# Exercise: Create a list of cubes for numbers divisible by 3 in the range 1-20\n",
    "cubes = [x**3 for x in range(1, 21) if x % 3 == 0]\n",
    "print(cubes)"
   ]
  },
  {
   "cell_type": "markdown",
   "metadata": {},
   "source": [
    "## 2. Dictionary and Set Comprehensions\n",
    "\n",
    "### Dictionary Comprehension:\n",
    "```python\n",
    "# Create a dictionary mapping numbers to their squares\n",
    "squares_dict = {x: x**2 for x in range(5)}\n",
    "print(squares_dict)\n",
    "```\n",
    "\n",
    "### Set Comprehension:\n",
    "```python\n",
    "# Create a set of unique remainders when dividing by 3\n",
    "remainders = {x % 3 for x in range(10)}\n",
    "print(remainders)\n",
    "```"
   ]
  },
  {
   "cell_type": "code",
   "execution_count": null,
   "metadata": {},
   "outputs": [],
   "source": [
    "# Exercise: Create a dictionary where keys are numbers 1-10 and values are their cubes\n",
    "cubes_dict = {x: x**3 for x in range(1, 11)}\n",
    "print(cubes_dict)"
   ]
  },
  {
   "cell_type": "markdown",
   "metadata": {},
   "source": [
    "## 3. Functions\n",
    "\n",
    "### Default Arguments:\n",
    "```python\n",
    "def greet(name, message=\"Hello\"):\n",
    "    print(f\"{message}, {name}!\")\n",
    "greet(\"Alice\")\n",
    "greet(\"Bob\", \"Good morning\")\n",
    "```\n",
    "\n",
    "### Lambda Functions:\n",
    "```python\n",
    "square = lambda x: x**2\n",
    "print(square(5))\n",
    "```\n",
    "\n",
    "### `*args` and `**kwargs`:\n",
    "```python\n",
    "def describe(*args, **kwargs):\n",
    "    print(\"Arguments:\", args)\n",
    "    print(\"Keyword arguments:\", kwargs)\n",
    "describe(1, 2, 3, name=\"Alice\", age=25)\n",
    "```"
   ]
  },
  {
   "cell_type": "code",
   "execution_count": null,
   "metadata": {},
   "outputs": [],
   "source": [
    "# Exercise: Write a function that takes a variable number of arguments and returns their sum\n",
    "def variable_sum(*args):\n",
    "    return sum(args)\n",
    "print(variable_sum(1, 2, 3, 4))  # Output: 10"
   ]
  },
  {
   "cell_type": "markdown",
   "metadata": {},
   "source": [
    "## 4. Modules and Libraries\n",
    "\n",
    "### Example:\n",
    "```python\n",
    "import math\n",
    "print(math.sqrt(16))  # Output: 4.0\n",
    "\n",
    "import random\n",
    "print(random.randint(1, 10))  # Random integer between 1 and 10\n",
    "```"
   ]
  },
  {
   "cell_type": "code",
   "execution_count": null,
   "metadata": {},
   "outputs": [],
   "source": [
    "# Exercise: Use the `random` module to simulate rolling two dice and printing their sum\n",
    "import random\n",
    "die1 = random.randint(1, 6)\n",
    "die2 = random.randint(1, 6)\n",
    "print(f\"You rolled: {die1} and {die2}. Total: {die1 + die2}\")"
   ]
  }
 ],
 "metadata": {
  "kernelspec": {
   "display_name": "Python 3",
   "language": "python",
   "name": "python3"
  },
  "language_info": {
   "codemirror_mode": {
    "name": "ipython",
    "version": 3
   },
   "file_extension": ".py",
   "mimetype": "text/x-python",
   "name": "python",
   "nbconvert_exporter": "python",
   "pygments_lexer": "ipython3",
   "version": "3.8.5"
  }
 },
 "nbformat": 4,
 "nbformat_minor": 4
}
