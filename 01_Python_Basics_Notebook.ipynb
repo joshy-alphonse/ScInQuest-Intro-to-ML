{
 "cells": [
  {
   "cell_type": "markdown",
   "id": "1fcbfa76",
   "metadata": {},
   "source": [
    "# Python Basics\n",
    "Welcome to this Python tutorial. This notebook covers the fundamentals of Python programming."
   ]
  },
  {
   "cell_type": "markdown",
   "id": "87f1db49",
   "metadata": {},
   "source": [
    "## 1. Introduction\n",
    "- **What is Python?**\n",
    "  Python is a high-level, interpreted programming language known for its simplicity and readability.\n",
    "\n",
    "- **Why learn Python?**\n",
    "  Python is widely used in various fields such as data science, web development, and automation.\n",
    "\n",
    "- **Overview of Jupyter Notebook**\n",
    "  Jupyter Notebook is an interactive environment for running Python code and documenting your process."
   ]
  },
  {
   "cell_type": "code",
   "execution_count": null,
   "id": "a72cd6b7",
   "metadata": {},
   "outputs": [],
   "source": [
    "print('Hello, Python!')  # Your first Python program!"
   ]
  },
  {
   "cell_type": "markdown",
   "id": "6a11aece",
   "metadata": {},
   "source": [
    "## 2. Getting Started with Python\n",
    "### Python as a Calculator"
   ]
  },
  {
   "cell_type": "markdown",
   "id": "a57d19b7",
   "metadata": {},
   "source": [
    "### Basic Arithmetic Operations\n",
    "\n",
    "| Operator | Description           | Example           |\n",
    "|----------|-----------------------|-------------------|\n",
    "| `+`      | Addition              | `3 + 2 → 5`       |\n",
    "| `-`      | Subtraction           | `5 - 3 → 2`       |\n",
    "| `*`      | Multiplication        | `4 * 2 → 8`       |\n",
    "| `/`      | Division              | `8 / 2 → 4.0`     |\n",
    "| `//`     | Floor Division        | `7 // 2 → 3`      |\n",
    "| `%`      | Modulus (Remainder)   | `7 % 2 → 1`       |\n",
    "| `**`     | Exponentiation (Power)| `3 ** 2 → 9`      |\n"
   ]
  },
  {
   "cell_type": "markdown",
   "id": "0a02e3e9",
   "metadata": {},
   "source": [
    "### 5. Using Parentheses for Clarity\n",
    "\n",
    "Python follows the **order of operations** (PEMDAS):\n",
    "\n",
    "1. **Parentheses**  \n",
    "2. **Exponents**  \n",
    "3. **Multiplication** and **Division** (from left to right)  \n",
    "4. **Addition** and **Subtraction** (from left to right)  \n",
    "\n",
    "#### Examples:\n",
    "```python\n",
    "# Without parentheses\n",
    "print(5 + 3 * 2)  # Output: 11\n",
    "\n",
    "# With parentheses\n",
    "print((5 + 3) * 2)  # Output: 16\n"
   ]
  },
  {
   "cell_type": "code",
   "execution_count": null,
   "id": "c3a3ed7d",
   "metadata": {},
   "outputs": [],
   "source": [
    "# Basic arithmetic\n",
    "print(5 + 3)  # Addition\n",
    "print(10 - 4)  # Subtraction\n",
    "print(6 * 7)  # Multiplication\n",
    "print(8 / 2)  # Division\n",
    "# Floor division\n",
    "print(10 // 3)  # Result: 3\n",
    "\n",
    "# Modulus\n",
    "print(10 % 3)  # Remainder: 1\n",
    "\n",
    "# Exponentiation\n",
    "print(2 ** 3)  # 2 raised to the power of 3: 8\n",
    "\n",
    "result = (5 + 3) * 2 - 4 / 2\n",
    "print(result)  # Output: 14.0\n",
    "\n",
    "# Without parentheses\n",
    "print(5 + 3 * 2)  # Output: 11\n",
    "\n",
    "# With parentheses\n",
    "print((5 + 3) * 2)  # Output: 16\n",
    "\n"
   ]
  },
  {
   "cell_type": "markdown",
   "id": "f113fb8c",
   "metadata": {},
   "source": [
    "### Printing Messages"
   ]
  },
  {
   "cell_type": "code",
   "execution_count": null,
   "id": "122afaa8",
   "metadata": {},
   "outputs": [],
   "source": [
    "print('Welcome to Python Programming!')"
   ]
  },
  {
   "cell_type": "markdown",
   "id": "4dc6611c",
   "metadata": {},
   "source": [
    "## 3. Variables and Data Types\n",
    "### Assigning Variables"
   ]
  },
  {
   "cell_type": "code",
   "execution_count": null,
   "id": "7369f2e9",
   "metadata": {},
   "outputs": [],
   "source": [
    "x = 10  # Integer\n",
    "pi = 3.14  # Float\n",
    "name = 'Alice'  # String\n",
    "is_student = True  # Boolean"
   ]
  },
  {
   "cell_type": "markdown",
   "id": "3cf05125",
   "metadata": {},
   "source": [
    "### Type Checking and Conversion"
   ]
  },
  {
   "cell_type": "code",
   "execution_count": null,
   "id": "bc010572",
   "metadata": {},
   "outputs": [],
   "source": [
    "type(x)  # Check type of variable\n",
    "float(x)  # Convert to float"
   ]
  },
  {
   "cell_type": "markdown",
   "id": "6f56f45d",
   "metadata": {},
   "source": [
    "## 4. Strings\n",
    "### Creating and Modifying Strings\n",
    "### Concatenating Strings\n",
    "#### You can join two or more strings using the + operator.\n",
    "\n",
    "\n"
   ]
  },
  {
   "cell_type": "code",
   "execution_count": null,
   "id": "881f55c9",
   "metadata": {},
   "outputs": [],
   "source": [
    "greeting = 'Hello'\n",
    "name = 'Alice'\n",
    "message = greeting + ', ' + name\n",
    "print(message)"
   ]
  },
  {
   "cell_type": "markdown",
   "id": "de649814",
   "metadata": {},
   "source": [
    "### Common String Methods"
   ]
  },
  {
   "cell_type": "code",
   "execution_count": null,
   "id": "1ad55be4",
   "metadata": {},
   "outputs": [],
   "source": [
    "# Example string\n",
    "text = \"Python is Amazing\"\n",
    "\n",
    "# Convert to lowercase\n",
    "print(text.lower())  # Output: \"python is amazing\"\n",
    "\n",
    "# Split the string into a list\n",
    "print(text.split())  # Output: [\"Python\", \"is\", \"Amazing\"]\n",
    "\n",
    "# Replace part of the string\n",
    "print(text.replace(\"Amazing\", \"Fun\"))  # Output: \"Python is Fun\"\n",
    "\n",
    "# Check if the string starts with a specific word\n",
    "print(text.startswith(\"Python\"))  # Output: True\n",
    "\n",
    "# Check if the string ends with a specific word\n",
    "print(text.endswith(\"Amazing\"))  # Output: True"
   ]
  },
  {
   "cell_type": "markdown",
   "id": "ce772da4",
   "metadata": {},
   "source": [
    "## 5. Data Structures\n",
    "### Creating and Accessing Lists"
   ]
  },
  {
   "cell_type": "markdown",
   "id": "eb763008",
   "metadata": {},
   "source": [
    "### Basic Data Structures in Python\n",
    "\n",
    "Python provides built-in data structures that help in storing and managing data effectively. The most commonly used ones are:\n",
    "\n",
    "1. **List**\n",
    "2. **Tuple**\n",
    "3. **Set**\n",
    "4. **Dictionary**\n",
    "\n",
    "---\n",
    "\n",
    "#### 1. **List**\n",
    "A `list` is an ordered, mutable (changeable), and iterable collection that can hold items of different data types.\n",
    "\n",
    "**Features of Lists:**\n",
    "- Ordered: Items have a defined order.\n",
    "- Mutable: Items can be added, removed, or modified.\n",
    "- Allows duplicates.\n",
    "\n",
    "### Summary Table of Python Data Structures\n",
    "\n",
    "| Data Structure | Ordered | Mutable | Duplicates Allowed | Example Syntax               |\n",
    "|----------------|---------|---------|--------------------|------------------------------|\n",
    "| **List**       | ✅      | ✅      | ✅                 | `fruits = [\"apple\", \"banana\"]` |\n",
    "| **Tuple**      | ✅      | ❌      | ✅                 | `coordinates = (10, 20)`     |\n",
    "| **Set**        | ❌      | ✅      | ❌                 | `numbers = {1, 2, 3}`        |\n",
    "| **Dictionary** | ❌      | ✅      | ❌ (keys)          | `person = {\"name\": \"Alice\"}` |\n",
    "\n",
    "\n",
    "**Example:**\n",
    "```python\n",
    "# Creating a list\n",
    "fruits = [\"apple\", \"banana\", \"cherry\"]\n",
    "\n",
    "# Accessing elements\n",
    "print(fruits[0])  # Output: apple\n",
    "\n",
    "# Adding elements\n",
    "fruits.append(\"orange\")\n",
    "\n",
    "# Removing elements\n",
    "fruits.remove(\"banana\")\n",
    "\n",
    "# Slicing\n",
    "print(fruits[:2])  # Output: ['apple', 'cherry']\n",
    "\n",
    "# Output the final list\n",
    "print(fruits)  # Output: ['apple', 'cherry', 'orange']\n"
   ]
  },
  {
   "cell_type": "markdown",
   "id": "27863c17",
   "metadata": {},
   "source": [
    "Tuple\n",
    "A tuple is an ordered, immutable collection that can hold items of different data types.\n",
    "\n",
    "Features of Tuples:\n",
    "\n",
    "Ordered: Items have a defined order.\n",
    "Immutable: Once created, the items cannot be changed.\n",
    "Allows duplicates."
   ]
  },
  {
   "cell_type": "code",
   "execution_count": null,
   "id": "855b5c0c",
   "metadata": {},
   "outputs": [],
   "source": [
    "# Creating a tuple\n",
    "coordinates = (10, 20, 30)\n",
    "\n",
    "# Accessing elements\n",
    "print(coordinates[1])  # Output: 20\n",
    "\n",
    "# Slicing\n",
    "print(coordinates[2])  # Output: (10, 20)\n",
    "\n",
    "# Tuples are immutable; the following will raise an error:\n",
    "coordinates[0] = 15\n"
   ]
  },
  {
   "cell_type": "markdown",
   "id": "f2ea0e2c",
   "metadata": {},
   "source": [
    "Set\n",
    "A set is an unordered, mutable collection that does not allow duplicate values.\n",
    "\n",
    "Features of Sets:\n",
    "\n",
    "Unordered: No defined order.\n",
    "Mutable: You can add or remove items.\n",
    "No duplicates: Duplicate items are automatically removed."
   ]
  },
  {
   "cell_type": "code",
   "execution_count": null,
   "id": "81b7d36e",
   "metadata": {},
   "outputs": [],
   "source": [
    "# Creating a set\n",
    "numbers = {1, 2, 3, 4}\n",
    "\n",
    "# Adding elements\n",
    "numbers.add(5)\n",
    "\n",
    "# Removing elements\n",
    "numbers.remove(3)\n",
    "\n",
    "# Duplicate values are ignored\n",
    "numbers.add(2)\n",
    "\n",
    "print(numbers)  # Output: {1, 2, 4, 5}\n"
   ]
  },
  {
   "cell_type": "markdown",
   "id": "facbce8a",
   "metadata": {},
   "source": [
    "Dictionary\n",
    "A dictionary is an unordered collection of key-value pairs. Keys must be unique and immutable, while values can be of any data type.\n",
    "\n",
    "Features of Dictionaries:\n",
    "\n",
    "Unordered: Items have no defined order (before Python 3.7).\n",
    "Keys are unique and immutable.\n",
    "Mutable: Items can be added, removed, or modified."
   ]
  },
  {
   "cell_type": "code",
   "execution_count": null,
   "id": "ae818d02",
   "metadata": {},
   "outputs": [],
   "source": [
    "# Creating a dictionary\n",
    "person = {\"name\": \"Alice\", \"age\": 25, \"city\": \"New York\"}\n",
    "\n",
    "# Accessing values\n",
    "print(person[\"name\"])  # Output: Alice\n",
    "\n",
    "# Adding a new key-value pair\n",
    "person[\"job\"] = \"Engineer\"\n",
    "\n",
    "# Modifying a value\n",
    "person[\"age\"] = 26\n",
    "\n",
    "# Removing a key-value pair\n",
    "del person[\"city\"]\n",
    "\n",
    "# Output the final dictionary\n",
    "print(person)  # Output: {'name': 'Alice', 'age': 26, 'job': 'Engineer'}\n"
   ]
  },
  {
   "cell_type": "markdown",
   "id": "0a452103",
   "metadata": {},
   "source": [
    "### Exercises\n",
    "\n",
    "#### List Operations:\n",
    "#### Create a list of your favorite movies. Add a new movie to the list, remove one, and print the final list."
   ]
  },
  {
   "cell_type": "code",
   "execution_count": null,
   "id": "b9a06619",
   "metadata": {},
   "outputs": [],
   "source": []
  },
  {
   "cell_type": "markdown",
   "id": "89d008bc",
   "metadata": {},
   "source": [
    "\n",
    "#### Tuple Packing and Unpacking:\n",
    "#### Create a tuple with three numbers. Unpack the tuple into separate variables and print the values."
   ]
  },
  {
   "cell_type": "code",
   "execution_count": null,
   "id": "3060bca5",
   "metadata": {},
   "outputs": [],
   "source": []
  },
  {
   "cell_type": "markdown",
   "id": "c4390315",
   "metadata": {},
   "source": [
    "#### Set Operations:\n",
    "#### Create two sets of numbers and perform union, intersection, and difference operations."
   ]
  },
  {
   "cell_type": "code",
   "execution_count": null,
   "id": "df3ac201",
   "metadata": {},
   "outputs": [],
   "source": []
  },
  {
   "cell_type": "markdown",
   "id": "a7892d14",
   "metadata": {},
   "source": [
    "#### Dictionary Manipulation:\n",
    "#### Create a dictionary to store information about a book (title, author, year). Add a new key-value pair for the genre and modify the year. Print the final dictionary."
   ]
  },
  {
   "cell_type": "code",
   "execution_count": null,
   "id": "ae9f68d8",
   "metadata": {},
   "outputs": [],
   "source": []
  },
  {
   "cell_type": "code",
   "execution_count": null,
   "id": "2afc4661",
   "metadata": {},
   "outputs": [],
   "source": [
    "numbers = [1, 2, 3, 4]\n",
    "print(numbers[0])  # Access first element\n",
    "print(numbers[2])  # Access second element\n",
    "print(numbers[-1]) # Access last element using reverse indexing\n",
    "print(numbers[-2]) # Access second last elemet using reverse indexing"
   ]
  },
  {
   "cell_type": "markdown",
   "id": "6480a371",
   "metadata": {},
   "source": [
    "## 6. Conditional Statements\n",
    "\n",
    "This snippet demonstrates:\n",
    "\n",
    "1.Basic if-else logic.\n",
    "\n",
    "2.Multi-branch decision-making with if-elif-else.\n",
    "\n",
    "3.Multiple independent if statements where all conditions are evaluated."
   ]
  },
  {
   "cell_type": "code",
   "execution_count": null,
   "id": "987ab0a5",
   "metadata": {},
   "outputs": [],
   "source": [
    "# Example with if-else\n",
    "x = 10\n",
    "if x > 5:\n",
    "    print(\"x is greater than 5\")\n",
    "else:\n",
    "    print(\"x is 5 or less\")\n",
    "\n",
    "# Example with if-elif-else\n",
    "x = 15\n",
    "if x < 10:\n",
    "    print(\"x is less than 10\")\n",
    "elif x == 10:\n",
    "    print(\"x is equal to 10\")\n",
    "else:\n",
    "    print(\"x is greater than 10\")\n",
    "\n",
    "# Example with multiple independent ifs\n",
    "y = 20\n",
    "if y > 10:\n",
    "    print(\"y is greater than 10\")\n",
    "if y % 2 == 0:\n",
    "    print(\"y is even\")\n",
    "if y < 50:\n",
    "    print(\"y is less than 50\")"
   ]
  },
  {
   "cell_type": "markdown",
   "id": "440f683c",
   "metadata": {},
   "source": [
    "# Exercise: Grading System\n",
    "## Write a program that accepts a score from the user and prints a grade based on the following criteria:\n",
    "\n",
    "### Score ≥ 90: Grade A\n",
    "### 80 ≤ Score < 90: Grade B\n",
    "### 70 ≤ Score < 80: Grade C\n",
    "### 60 ≤ Score < 70: Grade D\n",
    "### Score < 60: Grade F"
   ]
  },
  {
   "cell_type": "code",
   "execution_count": null,
   "id": "34deb7cc",
   "metadata": {},
   "outputs": [],
   "source": []
  },
  {
   "cell_type": "markdown",
   "id": "a6ecb9cf",
   "metadata": {},
   "source": [
    "# Exercise: Check Number Type\n",
    "## Write a program that takes an integer as input and checks:\n",
    "\n",
    "### If the number is positive, negative, or zero.\n",
    "### Additionally, check if the number is even or odd."
   ]
  },
  {
   "cell_type": "code",
   "execution_count": null,
   "id": "7474f1cd",
   "metadata": {},
   "outputs": [],
   "source": []
  },
  {
   "cell_type": "markdown",
   "id": "d0515db8",
   "metadata": {},
   "source": [
    "## 7. Loops\n",
    "### For Loop\n",
    "\n",
    "#### A for loop is used to iterate over a sequence (like a list, tuple, string, or range) and perform an operation for each element."
   ]
  },
  {
   "cell_type": "code",
   "execution_count": null,
   "id": "04952b13",
   "metadata": {},
   "outputs": [],
   "source": [
    "# 1. Iterating Over a List\n",
    "fruits = [\"apple\", \"banana\", \"cherry\"]\n",
    "for fruit in fruits:\n",
    "    print(fruit)"
   ]
  },
  {
   "cell_type": "code",
   "execution_count": null,
   "id": "cae16651",
   "metadata": {},
   "outputs": [],
   "source": [
    "#2. Using range() in a for Loop\n",
    "for i in range(5):  # Generates numbers 0 to 4\n",
    "    print(i)"
   ]
  },
  {
   "cell_type": "code",
   "execution_count": null,
   "id": "2ca1cddb",
   "metadata": {},
   "outputs": [],
   "source": [
    "#3. Iterating Over a String\n",
    "for char in \"Python\":\n",
    "    print(char)"
   ]
  },
  {
   "cell_type": "markdown",
   "id": "9bf6231e",
   "metadata": {},
   "source": [
    "## 4. Using break and continue\n",
    "### break: Exits the loop entirely.\n"
   ]
  },
  {
   "cell_type": "code",
   "execution_count": null,
   "id": "a5526f0d",
   "metadata": {},
   "outputs": [],
   "source": [
    "for i in range(10):\n",
    "    if i == 5:\n",
    "        break  # Exit the loop when i is 5\n",
    "    print(i)"
   ]
  },
  {
   "cell_type": "markdown",
   "id": "c384822c",
   "metadata": {},
   "source": [
    "### continue: Skips the current iteration and moves to the next.\n"
   ]
  },
  {
   "cell_type": "code",
   "execution_count": null,
   "id": "e9545819",
   "metadata": {},
   "outputs": [],
   "source": [
    "for i in range(10):\n",
    "    if i % 2 == 0:\n",
    "        continue  # Skip even numbers\n",
    "    print(i)"
   ]
  },
  {
   "cell_type": "markdown",
   "id": "a4d4459b",
   "metadata": {},
   "source": [
    "## 5. Nested For Loops\n",
    "### You can use one for loop inside another to work with multi-dimensional data."
   ]
  },
  {
   "cell_type": "markdown",
   "id": "318562f0",
   "metadata": {},
   "source": [
    "## Exercise\n",
    "### Write a for loop to print the square of each number from 1 to 10.\n",
    "### Use a for loop to count the number of vowels in the string \"Hello World\"."
   ]
  },
  {
   "cell_type": "code",
   "execution_count": null,
   "id": "18584480",
   "metadata": {},
   "outputs": [],
   "source": [
    "for i in range(3):  # Outer loop\n",
    "    for j in range(2):  # Inner loop\n",
    "        print(f\"i={i}, j={j}\")\n"
   ]
  },
  {
   "cell_type": "markdown",
   "id": "8568630d",
   "metadata": {},
   "source": [
    "## 6. Using else with a for Loop\n",
    "### The else block in a for loop executes if the loop completes without a break."
   ]
  },
  {
   "cell_type": "code",
   "execution_count": null,
   "id": "bc705798",
   "metadata": {},
   "outputs": [],
   "source": [
    "for i in range(5):\n",
    "    if i == 3:\n",
    "        break\n",
    "    print(i)\n",
    "else:\n",
    "    print(\"Loop completed successfully\")"
   ]
  },
  {
   "cell_type": "code",
   "execution_count": null,
   "id": "24a83fd3",
   "metadata": {},
   "outputs": [],
   "source": []
  },
  {
   "cell_type": "markdown",
   "id": "ca10ba50",
   "metadata": {},
   "source": [
    "### 7. While Loop"
   ]
  },
  {
   "cell_type": "code",
   "execution_count": null,
   "id": "82051466",
   "metadata": {},
   "outputs": [],
   "source": [
    "count = 0\n",
    "while count < 5:\n",
    "    print(count)\n",
    "    count += 1"
   ]
  },
  {
   "cell_type": "markdown",
   "id": "ceccb27e",
   "metadata": {},
   "source": [
    "## Exercise: Sum of Numbers\n",
    "#### Write a program that keeps asking the user to enter a number. Stop the loop when the user enters 0 and print the sum of all entered numbers."
   ]
  },
  {
   "cell_type": "code",
   "execution_count": null,
   "id": "3e98e31c",
   "metadata": {},
   "outputs": [],
   "source": []
  },
  {
   "cell_type": "markdown",
   "id": "26a6cb5b",
   "metadata": {},
   "source": []
  },
  {
   "cell_type": "markdown",
   "id": "69f93761",
   "metadata": {},
   "source": [
    "## 8. Functions\n",
    "### Defining and Using Functions\n",
    "\n",
    "\n",
    "In Python, functions are blocks of reusable code that can be called to perform a specific task. Functions help in organizing code, making it more modular and easier to understand.\n",
    "\n",
    "---\n",
    "\n",
    "#### 1. **Defining a Function**\n",
    "\n",
    "A function is defined using the `def` keyword, followed by the function name and parentheses. You can also pass parameters (inputs) to the function inside the parentheses.\n",
    "\n",
    "```python\n",
    "# Defining a simple function\n",
    "def greet():\n",
    "    print(\"Hello, welcome to Python!\")\n",
    "\n",
    "# Calling the greet function\n",
    "greet()  # Output: Hello, welcome to Python!\n",
    "\n",
    "\n",
    "# Defining a function with parameters\n",
    "def greet(name):\n",
    "    print(f\"Hello, {name}!\")\n",
    "\n",
    "# Calling the function with an argument\n",
    "greet(\"Alice\")  # Output: Hello, Alice!\n",
    "greet(\"Bob\")    # Output: Hello, Bob!\n"
   ]
  },
  {
   "cell_type": "code",
   "execution_count": null,
   "id": "1baf0f7b",
   "metadata": {},
   "outputs": [],
   "source": [
    "def greet(name):\n",
    "    return 'Hello, ' + name\n",
    "\n",
    "print(greet('Alice'))"
   ]
  },
  {
   "cell_type": "markdown",
   "id": "881302ac",
   "metadata": {},
   "source": [
    "### Function with Multiple Parameters\n",
    "\n",
    "#### You can define functions with more than one parameter."
   ]
  },
  {
   "cell_type": "code",
   "execution_count": null,
   "id": "32392d28",
   "metadata": {},
   "outputs": [],
   "source": [
    "# Function with multiple parameters\n",
    "def multiply(x, y):\n",
    "    return x * y\n",
    "\n",
    "# Calling the function\n",
    "result = multiply(4, 6)\n",
    "print(result)  # Output: 24\n"
   ]
  },
  {
   "cell_type": "markdown",
   "id": "d405f6c6",
   "metadata": {},
   "source": [
    "### Default Parameters\n",
    "#### You can assign default values to parameters. If the caller doesn't pass a value for that parameter, the default value is used."
   ]
  },
  {
   "cell_type": "code",
   "execution_count": null,
   "id": "5358b226",
   "metadata": {},
   "outputs": [],
   "source": [
    "# Function with default parameters\n",
    "def greet(name=\"Guest\"):\n",
    "    print(f\"Hello, {name}!\")\n",
    "\n",
    "# Calling the function with and without an argument\n",
    "greet(\"Alice\")  # Output: Hello, Alice!\n",
    "greet()         # Output: Hello, Guest!"
   ]
  },
  {
   "cell_type": "markdown",
   "id": "2bacc076",
   "metadata": {},
   "source": [
    "### Keyword Arguments\n",
    "#### You can pass arguments to functions using the parameter name (keyword arguments). This allows you to pass arguments in any order."
   ]
  },
  {
   "cell_type": "code",
   "execution_count": null,
   "id": "b71e45e8",
   "metadata": {},
   "outputs": [],
   "source": [
    "# Function with keyword arguments\n",
    "def person_info(name, age):\n",
    "    print(f\"{name} is {age} years old.\")\n",
    "\n",
    "# Calling the function using keyword arguments\n",
    "person_info(age=25, name=\"John\")  # Output: John is 25 years old."
   ]
  },
  {
   "cell_type": "markdown",
   "id": "6ee3a0b6",
   "metadata": {},
   "source": [
    "### Lambda Functions\n",
    "#### Lambda functions are small anonymous functions defined using the lambda keyword. They can take any number of arguments but can only have one expression."
   ]
  },
  {
   "cell_type": "code",
   "execution_count": null,
   "id": "24f69680",
   "metadata": {},
   "outputs": [],
   "source": [
    "# Defining a lambda function\n",
    "square = lambda x: x ** 2\n",
    "\n",
    "# Calling the lambda function\n",
    "print(square(4))  # Output: 16\n"
   ]
  },
  {
   "cell_type": "markdown",
   "id": "ff1a3946",
   "metadata": {},
   "source": [
    "### Example of a Complete Function\n",
    "#### Here's a function that takes two numbers, adds them, and returns the result."
   ]
  },
  {
   "cell_type": "code",
   "execution_count": null,
   "id": "cc8f943f",
   "metadata": {},
   "outputs": [],
   "source": [
    "# Function that adds two numbers and returns the result\n",
    "def add_numbers(x, y):\n",
    "    return x + y\n",
    "\n",
    "# Calling the function\n",
    "sum_result = add_numbers(10, 15)\n",
    "print(f\"The sum is: {sum_result}\")  # Output: The sum is: 25\n"
   ]
  },
  {
   "cell_type": "markdown",
   "id": "72c43a3e",
   "metadata": {},
   "source": [
    "### Exercise!!!!\n",
    "#### Write a function called multiply_numbers that accepts two numbers and returns their product.\n",
    "#### Define a function is_even that checks if a number is even or odd.\n",
    "#### Write a function calculate_area that accepts the radius of a circle and returns the area. (Use the formula: Area = π * r², where π ≈ 3.14)."
   ]
  },
  {
   "cell_type": "code",
   "execution_count": null,
   "id": "736bd4a7",
   "metadata": {},
   "outputs": [],
   "source": []
  },
  {
   "cell_type": "markdown",
   "id": "cd8b8549",
   "metadata": {},
   "source": [
    "## 9. Input and Output"
   ]
  },
  {
   "cell_type": "markdown",
   "id": "d1bf347d",
   "metadata": {},
   "source": [
    "### Input and Output in Python\n",
    "\n",
    "Python makes it easy to take input from the user and display output. Here’s how:\n",
    "\n",
    "---\n",
    "\n",
    "#### 1. **Taking Input**\n",
    "\n",
    "The `input()` function is used to take input from the user. It always returns the input as a string.\n",
    "\n",
    "**Example:**\n",
    "```python\n",
    "# Taking input\n",
    "name = input(\"Enter your name: \")\n",
    "print(f\"Hello, {name}!\")"
   ]
  },
  {
   "cell_type": "code",
   "execution_count": null,
   "id": "679c21eb",
   "metadata": {},
   "outputs": [],
   "source": [
    "# Taking a number as input and converting it to an integer\n",
    "age = int(input(\"Enter your age: \"))\n",
    "print(f\"You are {age} years old.\")"
   ]
  },
  {
   "cell_type": "code",
   "execution_count": null,
   "id": "97babf5a",
   "metadata": {},
   "outputs": [],
   "source": [
    "name = input('Enter your name: ')\n",
    "print('Hello, ' + name)"
   ]
  },
  {
   "cell_type": "markdown",
   "id": "ba6a419b",
   "metadata": {},
   "source": [
    "## Printing Output\n",
    "### The print() function is used to display output. You can format the output using f-strings, format(), or string concatenation."
   ]
  },
  {
   "cell_type": "code",
   "execution_count": null,
   "id": "3dbfa193",
   "metadata": {},
   "outputs": [],
   "source": [
    "# Example 1: Using f-strings\n",
    "name = \"Alice\"\n",
    "age = 25\n",
    "print(f\"My name is {name} and I am {age} years old.\")\n"
   ]
  },
  {
   "cell_type": "code",
   "execution_count": null,
   "id": "c1bdc2d3",
   "metadata": {},
   "outputs": [],
   "source": [
    "#Example 2: Using format()\n",
    "print(\"My name is {} and I am {} years old.\".format(name, age))"
   ]
  },
  {
   "cell_type": "code",
   "execution_count": null,
   "id": "ab9025c3",
   "metadata": {},
   "outputs": [],
   "source": [
    "#Example 3: Using string concatenation\n",
    "print(\"My name is \" + name + \" and I am \" + str(age) + \" years old.\")\n"
   ]
  },
  {
   "cell_type": "markdown",
   "id": "9f22c418",
   "metadata": {},
   "source": [
    "# Excercise\n",
    "## Guessing Game:\n",
    "#### Write a program where the user has to guess a secret number between 1 and 10. The program should give hints (\"Too high\" or \"Too low\") and stop when the user guesses the correct number."
   ]
  },
  {
   "cell_type": "code",
   "execution_count": null,
   "id": "5b173986",
   "metadata": {},
   "outputs": [],
   "source": []
  },
  {
   "cell_type": "markdown",
   "id": "7839dedd",
   "metadata": {},
   "source": [
    "## 10. Error Handling"
   ]
  },
  {
   "cell_type": "markdown",
   "id": "47a845e4",
   "metadata": {},
   "source": [
    "### Error Handling in Python\n",
    "\n",
    "In Python, errors can occur during the execution of a program. These are referred to as **exceptions**. Python provides a way to handle these errors gracefully using `try`, `except`, and other related keywords.\n",
    "\n",
    "---\n",
    "\n",
    "#### 1. **The `try` and `except` Block**\n",
    "\n",
    "The `try` block contains code that might raise an exception. If an exception occurs, the `except` block is executed.\n",
    "\n",
    "**Syntax:**\n",
    "```python\n",
    "try:\n",
    "    # Code that may raise an exception\n",
    "    risky_code()\n",
    "except ExceptionType:\n",
    "    # Code to handle the exception\n",
    "    handle_exception()\n"
   ]
  },
  {
   "cell_type": "code",
   "execution_count": null,
   "id": "62d520a2",
   "metadata": {},
   "outputs": [],
   "source": [
    "try:\n",
    "    num = int(input(\"Enter a number: \"))\n",
    "    print(f\"The number is {num}\")\n",
    "except ValueError:\n",
    "    print(\"Invalid input! Please enter a valid number.\")\n"
   ]
  },
  {
   "cell_type": "code",
   "execution_count": null,
   "id": "a52fba44",
   "metadata": {},
   "outputs": [],
   "source": [
    "try:\n",
    "    result = 10 / 0\n",
    "except ZeroDivisionError:\n",
    "    print('Cannot divide by zero!')"
   ]
  },
  {
   "cell_type": "markdown",
   "id": "f2587fac",
   "metadata": {},
   "source": [
    "### Catching Multiple Exceptions\n",
    "You can catch different exceptions by specifying multiple except blocks."
   ]
  },
  {
   "cell_type": "code",
   "execution_count": null,
   "id": "bf8ee78b",
   "metadata": {},
   "outputs": [],
   "source": [
    "try:\n",
    "    num = int(input(\"Enter a number: \"))\n",
    "    result = 10 / num\n",
    "    print(f\"Result is {result}\")\n",
    "except ValueError:\n",
    "    print(\"Invalid input! Please enter a valid number.\")\n",
    "except ZeroDivisionError:\n",
    "    print(\"Error! Division by zero is not allowed.\")\n"
   ]
  },
  {
   "cell_type": "markdown",
   "id": "869c73d3",
   "metadata": {},
   "source": [
    "##### The finally Block\n",
    "##### The finally block is always executed, whether an exception occurs or not. It is often used for cleanup operations."
   ]
  },
  {
   "cell_type": "code",
   "execution_count": null,
   "id": "024acd20",
   "metadata": {},
   "outputs": [],
   "source": [
    "try:\n",
    "    num = int(input(\"Enter a number: \"))\n",
    "    result = 10 / num\n",
    "    print(f\"Result is {result}\")\n",
    "except ZeroDivisionError:\n",
    "    print(\"Cannot divide by zero!\")\n",
    "finally:\n",
    "    print(\"Execution complete.\")\n"
   ]
  },
  {
   "cell_type": "markdown",
   "id": "c490160d",
   "metadata": {},
   "source": [
    "##### Raising Exceptions\n",
    "##### You can raise exceptions intentionally using the raise keyword."
   ]
  },
  {
   "cell_type": "code",
   "execution_count": null,
   "id": "2809202a",
   "metadata": {},
   "outputs": [],
   "source": [
    "age = int(input(\"Enter your age: \"))\n",
    "if age < 0:\n",
    "    raise ValueError(\"Age cannot be negative!\")\n",
    "else:\n",
    "    print(f\"Your age is {age}\")\n"
   ]
  },
  {
   "cell_type": "markdown",
   "id": "5073c92d",
   "metadata": {},
   "source": [
    "### Exercises\n",
    "##### Handling Division by Zero:\n",
    "##### Write a program that takes two numbers as input and divides them. Handle the case where the second number is zero."
   ]
  },
  {
   "cell_type": "code",
   "execution_count": null,
   "id": "ef389caf",
   "metadata": {},
   "outputs": [],
   "source": []
  },
  {
   "cell_type": "markdown",
   "id": "37b5ea59",
   "metadata": {},
   "source": [
    "#### Custom Error Message:\n",
    "##### Write a program that asks for a number and raises a ValueError with the message \"Positive numbers only!\" if the number is negative."
   ]
  },
  {
   "cell_type": "code",
   "execution_count": null,
   "id": "746c2169",
   "metadata": {},
   "outputs": [],
   "source": []
  },
  {
   "cell_type": "markdown",
   "id": "1c1e52a4",
   "metadata": {},
   "source": [
    "## 11. Exercises\n",
    "Try solving these problems:\n",
    "1. Write a Python program to calculate the sum of two numbers.\n",
    "2. Create a function that reverses a string.\n",
    "3. Write a loop to find the maximum value in a list."
   ]
  },
  {
   "cell_type": "code",
   "execution_count": null,
   "id": "27a09b67",
   "metadata": {},
   "outputs": [],
   "source": []
  }
 ],
 "metadata": {
  "language_info": {
   "name": "python"
  }
 },
 "nbformat": 4,
 "nbformat_minor": 5
}
